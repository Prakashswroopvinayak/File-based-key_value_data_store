{
 "cells": [
  {
   "cell_type": "markdown",
   "metadata": {},
   "source": [
    " #             Import  required library  "
   ]
  },
  {
   "cell_type": "code",
   "execution_count": 25,
   "metadata": {},
   "outputs": [],
   "source": [
    "import json\n",
    "import sys\n",
    "import os\n",
    "import time"
   ]
  },
  {
   "cell_type": "markdown",
   "metadata": {},
   "source": [
    "# DataStore Creating and CRD Implementation "
   ]
  },
  {
   "cell_type": "code",
   "execution_count": 26,
   "metadata": {},
   "outputs": [],
   "source": [
    "# define Python user-defined exceptions\n",
    "class Error(Exception):\n",
    "    pass\n",
    "\n",
    "\n",
    "class keySizeException(Error):\n",
    "    pass\n",
    "class valueSizeException(Error):\n",
    "    pass\n",
    "class fileSizeException(Error):\n",
    "    pass\n",
    "class keyDuplicate(Error):\n",
    "    pass\n",
    "class emptyFileException(Error):\n",
    "    pass\n",
    "class keyNotFound(Error):\n",
    "    pass\n",
    "class expiredException(Error):\n",
    "    pass\n",
    "\n",
    "class datastore:\n",
    "    FILE_NAME = \"\"\n",
    "    def __init__(self,*args):\n",
    "        try:\n",
    "\n",
    "            if(len(args) == 0):\n",
    "                nm = \"default.json\"\n",
    "            \n",
    "            else:\n",
    "                nm = args[0]\n",
    "           \n",
    "            f = open(nm,\"x\")\n",
    "            datastore.FILE_NAME = nm\n",
    "            print(\"file created \")\n",
    "        except:\n",
    "            print(\"file already exists\")\n",
    "    \n",
    "        \n",
    "    def createdata(self,key,value,*args):\n",
    "        #key length should be <=32   \n",
    "        try:\n",
    "            if(len(key) > 32):\n",
    "                raise keySizeException\n",
    "          \n",
    "        except keySizeException:\n",
    "            print(\"Key length is restricted to 32 chracters. Kindly shorten your key to 32 characters or less.\\n\")\n",
    "           \n",
    "            \n",
    "        #value size <=16kB   \n",
    "        try:\n",
    "            valueSize = sys.getsizeof(value)/1024\n",
    "            if(valueSize > 16):\n",
    "                raise valueSizeException\n",
    "        except valueSizeException:\n",
    "            print(\"JSON value must be less than 16kB\\n\")\n",
    "         \n",
    "            \n",
    "        #exsisting filsesize<=1gB\n",
    "        try:\n",
    "            existingFileSize = os.path.getsize(datastore.FILE_NAME)\n",
    "            existingFileSize = (existingFileSize/1024)/1024 #MB\n",
    "            \n",
    "            if(existingFileSize >= 1024):\n",
    "                raise fileSizeException\n",
    "               \n",
    "            if(existingFileSize == 0.0):#empty file\n",
    "                timeToLive = -1\n",
    "                if(len(args) != 0):#timetolive val passed\n",
    "                    timeToLive = args[0]\n",
    "                created = int(time.time())\n",
    "                try:\n",
    "                    #writeToFile(key,value,timeToLive)\n",
    "                    json_data = {key : {\"value\":value,\n",
    "                               \"timeToLive\":timeToLive,\n",
    "                                \"created\":created\n",
    "                               }}\n",
    "                    #print(json_data)\n",
    "                    with open(datastore.FILE_NAME, 'w') as json_file:\n",
    "                        json.dump(json_data, json_file)\n",
    "                        print(\"Record Created\\n\")\n",
    "\n",
    "                except:\n",
    "                    print(\"IO Exception\\n\")\n",
    "            else:\n",
    "                #data present in json file\n",
    "                \n",
    "                #load file data\n",
    "                with open(datastore.FILE_NAME) as f:\n",
    "                    data = json.load(f)\n",
    "                try:\n",
    "                    if(key in set(data.keys())):\n",
    "                        raise keyDuplicate\n",
    "                            \n",
    "                    timeToLive = -1\n",
    "                    if(len(args) != 0):#timetolive val passed\n",
    "                        timeToLive = args[0]\n",
    "                    created = int(time.time())\n",
    "                    try:\n",
    "                        json_data = {key : {\"value\":value,\n",
    "                               \"timeToLive\":timeToLive,\n",
    "                                \"created\":created\n",
    "                               }}\n",
    "                        #print(json_data)\n",
    "                        data.update(json_data)\n",
    "                        with open(datastore.FILE_NAME, 'w') as json_file:\n",
    "                            json.dump(data, json_file)\n",
    "                            print(\"Record Created\\n\")\n",
    "\n",
    "                    \n",
    "                    except:\n",
    "                        print(\"IO Exception\\n\") \n",
    "                        \n",
    "                    \n",
    "                except keyDuplicate:\n",
    "                    print(\"Key already Exists\\n\")\n",
    "                    \n",
    "        except fileSizeException:\n",
    "            print(\"File size exceeded\")\n",
    "            print()\n",
    "            \n",
    "    def readData(self,key):\n",
    "        try:\n",
    "            existingFileSize = os.path.getsize(datastore.FILE_NAME)   \n",
    "            if(existingFileSize == 0.0):\n",
    "                raise emptyFileException\n",
    "            with open(datastore.FILE_NAME) as f:\n",
    "                data = json.load(f)\n",
    "            try:\n",
    "                s = set(data.keys())\n",
    "                if(key not in s):\n",
    "                    raise keyNotFound\n",
    "                        \n",
    "                created = data[key]['created']\n",
    "                timeToLive = data[key]['timeToLive']\n",
    "                if(timeToLive == -1):\n",
    "                    return data[key]['value']\n",
    "                else:\n",
    "                    try:\n",
    "                        curDate = int(time.time())\n",
    "                        if(curDate >= created + timeToLive):\n",
    "                            raise expiredException\n",
    "                        return data[key]['value']\n",
    "                    except expiredException:\n",
    "                        print(\"Key Exceeded Time To Live\")\n",
    "                \n",
    "            except keyNotFound:\n",
    "                print(\"Key Not Found\\n\")\n",
    "                    \n",
    "                    \n",
    "        except emptyFileException:\n",
    "            print(\"Datastore is Empty\\n\")\n",
    "                \n",
    "    def delData(self,key):\n",
    "        try:\n",
    "            existingFileSize = os.path.getsize(datastore.FILE_NAME)   \n",
    "            if(existingFileSize == 0.0):\n",
    "                raise emptyFileException\n",
    "            with open(datastore.FILE_NAME) as f:\n",
    "                data = json.load(f)\n",
    "            try:\n",
    "                s = set(data.keys())\n",
    "                if(key not in s):\n",
    "                    raise keyNotFound\n",
    "                        \n",
    "                created = data[key]['created']\n",
    "                timeToLive = data[key]['timeToLive']\n",
    "                if(timeToLive == -1):\n",
    "                    del data[key]\n",
    "                    with open(datastore.FILE_NAME, 'w') as json_file:\n",
    "                        json.dump(data, json_file)\n",
    "                    print(\"Record Deleted\\n\")\n",
    "                else:\n",
    "                    try:\n",
    "                        curDate = int(time.time())\n",
    "                        if(curDate >= created + timeToLive):\n",
    "                            raise expiredException\n",
    "                        \n",
    "                        del data[key]\n",
    "                        with open(datastore.FILE_NAME, 'w') as json_file:\n",
    "                            json.dump(data, json_file)\n",
    "                        print(\"Record Deleted\\n\")\n",
    "                        \n",
    "                    except expiredException:\n",
    "                        print(\"Key Exceeded Time To Live\")\n",
    "                \n",
    "            except keyNotFound:\n",
    "                print(\"Key Not Found\\n\")\n",
    "                    \n",
    "                    \n",
    "        except emptyFileException:\n",
    "            print(\"Datastore is Empty\\n\")\n",
    "                \n",
    "                        "
   ]
  },
  {
   "cell_type": "markdown",
   "metadata": {},
   "source": [
    "                       "
   ]
  },
  {
   "cell_type": "markdown",
   "metadata": {},
   "source": [
    "# Testing CRD operation with sample inputs "
   ]
  },
  {
   "cell_type": "markdown",
   "metadata": {},
   "source": [
    "## Checking for file creation "
   ]
  },
  {
   "cell_type": "code",
   "execution_count": 27,
   "metadata": {},
   "outputs": [
    {
     "name": "stdout",
     "output_type": "stream",
     "text": [
      "file created \n"
     ]
    }
   ],
   "source": [
    "# creating file without giveing  file name \n",
    "d = datastore()"
   ]
  },
  {
   "cell_type": "code",
   "execution_count": 28,
   "metadata": {},
   "outputs": [
    {
     "name": "stdout",
     "output_type": "stream",
     "text": [
      "file created \n"
     ]
    }
   ],
   "source": [
    "# file   created with parameter \n",
    "d = datastore(\"data.json\")"
   ]
  },
  {
   "cell_type": "code",
   "execution_count": 29,
   "metadata": {},
   "outputs": [
    {
     "name": "stdout",
     "output_type": "stream",
     "text": [
      "file already exists\n"
     ]
    }
   ],
   "source": [
    "# try to create exiting file \n",
    "d = datastore(\"data.json\")"
   ]
  },
  {
   "cell_type": "markdown",
   "metadata": {},
   "source": [
    "## Create Record"
   ]
  },
  {
   "cell_type": "code",
   "execution_count": 30,
   "metadata": {},
   "outputs": [
    {
     "name": "stdout",
     "output_type": "stream",
     "text": [
      "Record Created\n",
      "\n"
     ]
    }
   ],
   "source": [
    "# record created\n",
    "x = {\n",
    "  \"name\": \"John\",\n",
    "  \"age\": 30,\n",
    "  \"city\": \"New York\"\n",
    "}\n",
    "\n",
    "y = json.dumps(x)\n",
    "d.createdata(\"first\",y)\n",
    "\n"
   ]
  },
  {
   "cell_type": "code",
   "execution_count": 31,
   "metadata": {},
   "outputs": [
    {
     "name": "stdout",
     "output_type": "stream",
     "text": [
      "Key already Exists\n",
      "\n"
     ]
    }
   ],
   "source": [
    "# try to create existing record \n",
    "x = {\n",
    "  \"name\": \"John\",\n",
    "  \"age\": 30,\n",
    "  \"city\": \"New York\"\n",
    "}\n",
    "\n",
    "y = json.dumps(x)\n",
    "d.createdata(\"first\",y)"
   ]
  },
  {
   "cell_type": "code",
   "execution_count": 32,
   "metadata": {},
   "outputs": [
    {
     "name": "stdout",
     "output_type": "stream",
     "text": [
      "Record Created\n",
      "\n"
     ]
    }
   ],
   "source": [
    "# try to create record with timeToLive \n",
    "x = {\n",
    "  \"name\": \"John\",\n",
    "  \"age\": 30,\n",
    "  \"city\": \"New York\"\n",
    "}\n",
    "\n",
    "y = json.dumps(x)\n",
    "d.createdata(\"second\",y,60)#RECORD EXPIRES IN 60 SECONDS\n"
   ]
  },
  {
   "cell_type": "markdown",
   "metadata": {},
   "source": [
    "## Read Data"
   ]
  },
  {
   "cell_type": "code",
   "execution_count": 33,
   "metadata": {},
   "outputs": [
    {
     "data": {
      "text/plain": [
       "'{\"name\": \"John\", \"age\": 30, \"city\": \"New York\"}'"
      ]
     },
     "execution_count": 33,
     "metadata": {},
     "output_type": "execute_result"
    }
   ],
   "source": [
    "# read existing key  \n",
    "d.readData(\"first\")"
   ]
  },
  {
   "cell_type": "code",
   "execution_count": 34,
   "metadata": {},
   "outputs": [
    {
     "name": "stdout",
     "output_type": "stream",
     "text": [
      "Key Not Found\n",
      "\n"
     ]
    }
   ],
   "source": [
    "# try to read non existing key \n",
    "d.readData(\"third\")"
   ]
  },
  {
   "cell_type": "code",
   "execution_count": 37,
   "metadata": {},
   "outputs": [
    {
     "name": "stdout",
     "output_type": "stream",
     "text": [
      "Key Exceeded Time To Live\n"
     ]
    }
   ],
   "source": [
    "# try to read expire record   \n",
    "d.readData(\"second\")"
   ]
  },
  {
   "cell_type": "markdown",
   "metadata": {},
   "source": [
    "## Delete data "
   ]
  },
  {
   "cell_type": "code",
   "execution_count": 38,
   "metadata": {},
   "outputs": [
    {
     "name": "stdout",
     "output_type": "stream",
     "text": [
      "Record Deleted\n",
      "\n"
     ]
    }
   ],
   "source": [
    "# delete existing data\n",
    "d.delData(\"first\")"
   ]
  },
  {
   "cell_type": "code",
   "execution_count": 39,
   "metadata": {},
   "outputs": [
    {
     "name": "stdout",
     "output_type": "stream",
     "text": [
      "Key Not Found\n",
      "\n"
     ]
    }
   ],
   "source": [
    "# delete non  existing data\n",
    "d.delData(\"third\")"
   ]
  },
  {
   "cell_type": "code",
   "execution_count": 40,
   "metadata": {},
   "outputs": [
    {
     "name": "stdout",
     "output_type": "stream",
     "text": [
      "Key Exceeded Time To Live\n"
     ]
    }
   ],
   "source": [
    "# delete expired data \n",
    "d.delData(\"second\")"
   ]
  }
 ],
 "metadata": {
  "kernelspec": {
   "display_name": "Python 3",
   "language": "python",
   "name": "python3"
  },
  "language_info": {
   "codemirror_mode": {
    "name": "ipython",
    "version": 3
   },
   "file_extension": ".py",
   "mimetype": "text/x-python",
   "name": "python",
   "nbconvert_exporter": "python",
   "pygments_lexer": "ipython3",
   "version": "3.7.3"
  }
 },
 "nbformat": 4,
 "nbformat_minor": 4
}
