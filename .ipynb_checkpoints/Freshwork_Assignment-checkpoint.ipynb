{
 "cells": [
  {
   "cell_type": "code",
   "execution_count": 1,
   "metadata": {},
   "outputs": [],
   "source": [
    "import json\n",
    "import sys\n",
    "import os\n",
    "import time"
   ]
  },
  {
   "cell_type": "code",
   "execution_count": 2,
   "metadata": {},
   "outputs": [],
   "source": [
    "# define Python user-defined exceptions\n",
    "class Error(Exception):\n",
    "    pass\n",
    "\n",
    "\n",
    "class keySizeException(Error):\n",
    "    pass\n",
    "class valueSizeException(Error):\n",
    "    pass\n",
    "class fileSizeException(Error):\n",
    "    pass\n",
    "class keyDuplicate(Error):\n",
    "    pass\n",
    "class emptyFileException(Error):\n",
    "    pass\n",
    "class keyNotFound(Error):\n",
    "    pass\n",
    "class expiredException(Error):\n",
    "    pass\n",
    "\n",
    "class datastore:\n",
    "    FILE_NAME = \"\"\n",
    "    def __init__(self):\n",
    "        try:\n",
    "            \n",
    "            nm = \"data.json\"\n",
    "            f = open(nm,\"x\")\n",
    "            datastore.FILE_NAME = nm\n",
    "            print(\"file created\")\n",
    "        except:\n",
    "            print(\"file already exists\")\n",
    "    \n",
    "    def __init__(self,nm):\n",
    "        try:\n",
    "            f = open(nm,\"x\")\n",
    "            datastore.FILE_NAME = nm\n",
    "            print(\"file created\")\n",
    "        except:\n",
    "            print(\"file already exists\")\n",
    "    \n",
    "        \n",
    "    def createdata(self,key,value,*args):\n",
    "        #key length should be <=32   \n",
    "        try:\n",
    "            if(len(key) > 32):\n",
    "                raise keySizeException\n",
    "          \n",
    "        except keySizeException:\n",
    "            print(\"Key length is restricted to 32 chracters. Kindly shorten your key to 32 characters or less.\\n\")\n",
    "           \n",
    "            \n",
    "        #value size <=16kB   \n",
    "        try:\n",
    "            valueSize = sys.getsizeof(value)/1024\n",
    "            if(valueSize > 16):\n",
    "                raise valueSizeException\n",
    "        except valueSizeException:\n",
    "            print(\"JSON value must be less than 16kB\\n\")\n",
    "         \n",
    "            \n",
    "        #exsisting filsesize<=1gB\n",
    "        try:\n",
    "            existingFileSize = os.path.getsize(datastore.FILE_NAME)\n",
    "            existingFileSize = (existingFileSize/1024)/1024 #MB\n",
    "            \n",
    "            if(existingFileSize >= 1024):\n",
    "                raise fileSizeException\n",
    "               \n",
    "            if(existingFileSize == 0.0):#empty file\n",
    "                timeToLive = -1\n",
    "                if(len(args) != 0):#timetolive val passed\n",
    "                    timeToLive = args[0]\n",
    "                created = int(time.time())\n",
    "                try:\n",
    "                    #writeToFile(key,value,timeToLive)\n",
    "                    json_data = {key : {\"value\":value,\n",
    "                               \"timeToLive\":timeToLive,\n",
    "                                \"created\":created\n",
    "                               }}\n",
    "                    #print(json_data)\n",
    "                    with open(datastore.FILE_NAME, 'w') as json_file:\n",
    "                        json.dump(json_data, json_file)\n",
    "                        print(\"Record Created\\n\")\n",
    "\n",
    "                except:\n",
    "                    print(\"IO Exception\\n\")\n",
    "            else:\n",
    "                #data present in json file\n",
    "                \n",
    "                #load file data\n",
    "                with open(datastore.FILE_NAME) as f:\n",
    "                    data = json.load(f)\n",
    "                try:\n",
    "                    if(key in set(data.keys())):\n",
    "                        raise keyDuplicate\n",
    "                            \n",
    "                    timeToLive = -1\n",
    "                    if(len(args) != 0):#timetolive val passed\n",
    "                        timeToLive = args[0]\n",
    "                    created = int(time.time())\n",
    "                    try:\n",
    "                        json_data = {key : {\"value\":value,\n",
    "                               \"timeToLive\":timeToLive,\n",
    "                                \"created\":created\n",
    "                               }}\n",
    "                        #print(json_data)\n",
    "                        data.update(json_data)\n",
    "                        with open(datastore.FILE_NAME, 'w') as json_file:\n",
    "                            json.dump(data, json_file)\n",
    "                            print(\"Record Created\\n\")\n",
    "\n",
    "                    \n",
    "                    except:\n",
    "                        print(\"IO Exception\\n\") \n",
    "                        \n",
    "                    \n",
    "                except keyDuplicate:\n",
    "                    print(\"Key already Exists\\n\")\n",
    "                    \n",
    "        except fileSizeException:\n",
    "            print(\"File size exceeded\")\n",
    "            print()\n",
    "            \n",
    "    def readData(self,key):\n",
    "        try:\n",
    "            existingFileSize = os.path.getsize(datastore.FILE_NAME)   \n",
    "            if(existingFileSize == 0.0):\n",
    "                raise emptyFileException\n",
    "            with open(datastore.FILE_NAME) as f:\n",
    "                data = json.load(f)\n",
    "            try:\n",
    "                s = set(data.keys())\n",
    "                if(key not in s):\n",
    "                    raise keyNotFound\n",
    "                        \n",
    "                created = data[key]['created']\n",
    "                timeToLive = data[key]['timeToLive']\n",
    "                if(timeToLive == -1):\n",
    "                    return data[key]['value']\n",
    "                else:\n",
    "                    try:\n",
    "                        curDate = int(time.time())\n",
    "                        if(curDate >= created + timeToLive):\n",
    "                            raise expiredException\n",
    "                        return data[key]['value']\n",
    "                    except expiredException:\n",
    "                        print(\"Key Exceeded Time To Live\")\n",
    "                \n",
    "            except keyNotFound:\n",
    "                print(\"Key Not Found\\n\")\n",
    "                    \n",
    "                    \n",
    "        except emptyFileException:\n",
    "            print(\"Datastore is Empty\\n\")\n",
    "                \n",
    "    def delData(self,key):\n",
    "        try:\n",
    "            existingFileSize = os.path.getsize(datastore.FILE_NAME)   \n",
    "            if(existingFileSize == 0.0):\n",
    "                raise emptyFileException\n",
    "            with open(datastore.FILE_NAME) as f:\n",
    "                data = json.load(f)\n",
    "            try:\n",
    "                s = set(data.keys())\n",
    "                if(key not in s):\n",
    "                    raise keyNotFound\n",
    "                        \n",
    "                created = data[key]['created']\n",
    "                timeToLive = data[key]['timeToLive']\n",
    "                if(timeToLive == -1):\n",
    "                    del data[key]\n",
    "                    with open(datastore.FILE_NAME, 'w') as json_file:\n",
    "                        json.dump(data, json_file)\n",
    "                    print(\"Record Deleted\\n\")\n",
    "                else:\n",
    "                    try:\n",
    "                        curDate = int(time.time())\n",
    "                        if(curDate >= created + timeToLive):\n",
    "                            raise expiredException\n",
    "                        \n",
    "                        del data[key]\n",
    "                        with open(datastore.FILE_NAME, 'w') as json_file:\n",
    "                            json.dump(data, json_file)\n",
    "                        print(\"Record Deleted\\n\")\n",
    "                        \n",
    "                    except expiredException:\n",
    "                        print(\"Key Exceeded Time To Live\")\n",
    "                \n",
    "            except keyNotFound:\n",
    "                print(\"Key Not Found\\n\")\n",
    "                    \n",
    "                    \n",
    "        except emptyFileException:\n",
    "            print(\"Datastore is Empty\\n\")\n",
    "                \n",
    "                        "
   ]
  },
  {
   "cell_type": "code",
   "execution_count": 3,
   "metadata": {},
   "outputs": [
    {
     "name": "stdout",
     "output_type": "stream",
     "text": [
      "file already exists\n"
     ]
    }
   ],
   "source": [
    "d = datastore(\"data.json\")"
   ]
  },
  {
   "cell_type": "code",
   "execution_count": 4,
   "metadata": {},
   "outputs": [
    {
     "ename": "FileNotFoundError",
     "evalue": "[Errno 2] No such file or directory: ''",
     "output_type": "error",
     "traceback": [
      "\u001b[0;31m---------------------------------------------------------------------------\u001b[0m",
      "\u001b[0;31mFileNotFoundError\u001b[0m                         Traceback (most recent call last)",
      "\u001b[0;32m<ipython-input-4-078eccd6fe4b>\u001b[0m in \u001b[0;36m<module>\u001b[0;34m\u001b[0m\n\u001b[1;32m      6\u001b[0m \u001b[0;34m\u001b[0m\u001b[0m\n\u001b[1;32m      7\u001b[0m \u001b[0my\u001b[0m \u001b[0;34m=\u001b[0m \u001b[0mjson\u001b[0m\u001b[0;34m.\u001b[0m\u001b[0mdumps\u001b[0m\u001b[0;34m(\u001b[0m\u001b[0mx\u001b[0m\u001b[0;34m)\u001b[0m\u001b[0;34m\u001b[0m\u001b[0;34m\u001b[0m\u001b[0m\n\u001b[0;32m----> 8\u001b[0;31m \u001b[0md\u001b[0m\u001b[0;34m.\u001b[0m\u001b[0mcreatedata\u001b[0m\u001b[0;34m(\u001b[0m\u001b[0;34m\"first\"\u001b[0m\u001b[0;34m,\u001b[0m\u001b[0my\u001b[0m\u001b[0;34m)\u001b[0m\u001b[0;34m\u001b[0m\u001b[0;34m\u001b[0m\u001b[0m\n\u001b[0m\u001b[1;32m      9\u001b[0m \u001b[0;34m\u001b[0m\u001b[0m\n",
      "\u001b[0;32m<ipython-input-2-1c4d091d222b>\u001b[0m in \u001b[0;36mcreatedata\u001b[0;34m(self, key, value, *args)\u001b[0m\n\u001b[1;32m     61\u001b[0m         \u001b[0;31m#exsisting filsesize<=1gB\u001b[0m\u001b[0;34m\u001b[0m\u001b[0;34m\u001b[0m\u001b[0;34m\u001b[0m\u001b[0m\n\u001b[1;32m     62\u001b[0m         \u001b[0;32mtry\u001b[0m\u001b[0;34m:\u001b[0m\u001b[0;34m\u001b[0m\u001b[0;34m\u001b[0m\u001b[0m\n\u001b[0;32m---> 63\u001b[0;31m             \u001b[0mexistingFileSize\u001b[0m \u001b[0;34m=\u001b[0m \u001b[0mos\u001b[0m\u001b[0;34m.\u001b[0m\u001b[0mpath\u001b[0m\u001b[0;34m.\u001b[0m\u001b[0mgetsize\u001b[0m\u001b[0;34m(\u001b[0m\u001b[0mdatastore\u001b[0m\u001b[0;34m.\u001b[0m\u001b[0mFILE_NAME\u001b[0m\u001b[0;34m)\u001b[0m\u001b[0;34m\u001b[0m\u001b[0;34m\u001b[0m\u001b[0m\n\u001b[0m\u001b[1;32m     64\u001b[0m             \u001b[0mexistingFileSize\u001b[0m \u001b[0;34m=\u001b[0m \u001b[0;34m(\u001b[0m\u001b[0mexistingFileSize\u001b[0m\u001b[0;34m/\u001b[0m\u001b[0;36m1024\u001b[0m\u001b[0;34m)\u001b[0m\u001b[0;34m/\u001b[0m\u001b[0;36m1024\u001b[0m \u001b[0;31m#MB\u001b[0m\u001b[0;34m\u001b[0m\u001b[0;34m\u001b[0m\u001b[0m\n\u001b[1;32m     65\u001b[0m \u001b[0;34m\u001b[0m\u001b[0m\n",
      "\u001b[0;32m~/anaconda3/lib/python3.7/genericpath.py\u001b[0m in \u001b[0;36mgetsize\u001b[0;34m(filename)\u001b[0m\n\u001b[1;32m     48\u001b[0m \u001b[0;32mdef\u001b[0m \u001b[0mgetsize\u001b[0m\u001b[0;34m(\u001b[0m\u001b[0mfilename\u001b[0m\u001b[0;34m)\u001b[0m\u001b[0;34m:\u001b[0m\u001b[0;34m\u001b[0m\u001b[0;34m\u001b[0m\u001b[0m\n\u001b[1;32m     49\u001b[0m     \u001b[0;34m\"\"\"Return the size of a file, reported by os.stat().\"\"\"\u001b[0m\u001b[0;34m\u001b[0m\u001b[0;34m\u001b[0m\u001b[0m\n\u001b[0;32m---> 50\u001b[0;31m     \u001b[0;32mreturn\u001b[0m \u001b[0mos\u001b[0m\u001b[0;34m.\u001b[0m\u001b[0mstat\u001b[0m\u001b[0;34m(\u001b[0m\u001b[0mfilename\u001b[0m\u001b[0;34m)\u001b[0m\u001b[0;34m.\u001b[0m\u001b[0mst_size\u001b[0m\u001b[0;34m\u001b[0m\u001b[0;34m\u001b[0m\u001b[0m\n\u001b[0m\u001b[1;32m     51\u001b[0m \u001b[0;34m\u001b[0m\u001b[0m\n\u001b[1;32m     52\u001b[0m \u001b[0;34m\u001b[0m\u001b[0m\n",
      "\u001b[0;31mFileNotFoundError\u001b[0m: [Errno 2] No such file or directory: ''"
     ]
    }
   ],
   "source": [
    "x = {\n",
    "  \"name\": \"John\",\n",
    "  \"age\": 30,\n",
    "  \"city\": \"New York\"\n",
    "}\n",
    "\n",
    "y = json.dumps(x)\n",
    "d.createdata(\"first\",y)\n",
    "\n"
   ]
  },
  {
   "cell_type": "code",
   "execution_count": 5,
   "metadata": {},
   "outputs": [
    {
     "ename": "FileNotFoundError",
     "evalue": "[Errno 2] No such file or directory: ''",
     "output_type": "error",
     "traceback": [
      "\u001b[0;31m---------------------------------------------------------------------------\u001b[0m",
      "\u001b[0;31mFileNotFoundError\u001b[0m                         Traceback (most recent call last)",
      "\u001b[0;32m<ipython-input-5-01152a2eb21c>\u001b[0m in \u001b[0;36m<module>\u001b[0;34m\u001b[0m\n\u001b[0;32m----> 1\u001b[0;31m \u001b[0md\u001b[0m\u001b[0;34m.\u001b[0m\u001b[0mcreatedata\u001b[0m\u001b[0;34m(\u001b[0m\u001b[0;34m\"second\"\u001b[0m\u001b[0;34m,\u001b[0m\u001b[0my\u001b[0m\u001b[0;34m,\u001b[0m\u001b[0;36m1\u001b[0m\u001b[0;34m)\u001b[0m\u001b[0;34m\u001b[0m\u001b[0;34m\u001b[0m\u001b[0m\n\u001b[0m\u001b[1;32m      2\u001b[0m \u001b[0md\u001b[0m\u001b[0;34m.\u001b[0m\u001b[0mreadData\u001b[0m\u001b[0;34m(\u001b[0m\u001b[0;34m\"first\"\u001b[0m\u001b[0;34m)\u001b[0m\u001b[0;34m\u001b[0m\u001b[0;34m\u001b[0m\u001b[0m\n",
      "\u001b[0;32m<ipython-input-2-1c4d091d222b>\u001b[0m in \u001b[0;36mcreatedata\u001b[0;34m(self, key, value, *args)\u001b[0m\n\u001b[1;32m     61\u001b[0m         \u001b[0;31m#exsisting filsesize<=1gB\u001b[0m\u001b[0;34m\u001b[0m\u001b[0;34m\u001b[0m\u001b[0;34m\u001b[0m\u001b[0m\n\u001b[1;32m     62\u001b[0m         \u001b[0;32mtry\u001b[0m\u001b[0;34m:\u001b[0m\u001b[0;34m\u001b[0m\u001b[0;34m\u001b[0m\u001b[0m\n\u001b[0;32m---> 63\u001b[0;31m             \u001b[0mexistingFileSize\u001b[0m \u001b[0;34m=\u001b[0m \u001b[0mos\u001b[0m\u001b[0;34m.\u001b[0m\u001b[0mpath\u001b[0m\u001b[0;34m.\u001b[0m\u001b[0mgetsize\u001b[0m\u001b[0;34m(\u001b[0m\u001b[0mdatastore\u001b[0m\u001b[0;34m.\u001b[0m\u001b[0mFILE_NAME\u001b[0m\u001b[0;34m)\u001b[0m\u001b[0;34m\u001b[0m\u001b[0;34m\u001b[0m\u001b[0m\n\u001b[0m\u001b[1;32m     64\u001b[0m             \u001b[0mexistingFileSize\u001b[0m \u001b[0;34m=\u001b[0m \u001b[0;34m(\u001b[0m\u001b[0mexistingFileSize\u001b[0m\u001b[0;34m/\u001b[0m\u001b[0;36m1024\u001b[0m\u001b[0;34m)\u001b[0m\u001b[0;34m/\u001b[0m\u001b[0;36m1024\u001b[0m \u001b[0;31m#MB\u001b[0m\u001b[0;34m\u001b[0m\u001b[0;34m\u001b[0m\u001b[0m\n\u001b[1;32m     65\u001b[0m \u001b[0;34m\u001b[0m\u001b[0m\n",
      "\u001b[0;32m~/anaconda3/lib/python3.7/genericpath.py\u001b[0m in \u001b[0;36mgetsize\u001b[0;34m(filename)\u001b[0m\n\u001b[1;32m     48\u001b[0m \u001b[0;32mdef\u001b[0m \u001b[0mgetsize\u001b[0m\u001b[0;34m(\u001b[0m\u001b[0mfilename\u001b[0m\u001b[0;34m)\u001b[0m\u001b[0;34m:\u001b[0m\u001b[0;34m\u001b[0m\u001b[0;34m\u001b[0m\u001b[0m\n\u001b[1;32m     49\u001b[0m     \u001b[0;34m\"\"\"Return the size of a file, reported by os.stat().\"\"\"\u001b[0m\u001b[0;34m\u001b[0m\u001b[0;34m\u001b[0m\u001b[0m\n\u001b[0;32m---> 50\u001b[0;31m     \u001b[0;32mreturn\u001b[0m \u001b[0mos\u001b[0m\u001b[0;34m.\u001b[0m\u001b[0mstat\u001b[0m\u001b[0;34m(\u001b[0m\u001b[0mfilename\u001b[0m\u001b[0;34m)\u001b[0m\u001b[0;34m.\u001b[0m\u001b[0mst_size\u001b[0m\u001b[0;34m\u001b[0m\u001b[0;34m\u001b[0m\u001b[0m\n\u001b[0m\u001b[1;32m     51\u001b[0m \u001b[0;34m\u001b[0m\u001b[0m\n\u001b[1;32m     52\u001b[0m \u001b[0;34m\u001b[0m\u001b[0m\n",
      "\u001b[0;31mFileNotFoundError\u001b[0m: [Errno 2] No such file or directory: ''"
     ]
    }
   ],
   "source": [
    "d.createdata(\"second\",y,1)\n",
    "d.readData(\"first\")"
   ]
  },
  {
   "cell_type": "code",
   "execution_count": 6,
   "metadata": {},
   "outputs": [
    {
     "ename": "FileNotFoundError",
     "evalue": "[Errno 2] No such file or directory: ''",
     "output_type": "error",
     "traceback": [
      "\u001b[0;31m---------------------------------------------------------------------------\u001b[0m",
      "\u001b[0;31mFileNotFoundError\u001b[0m                         Traceback (most recent call last)",
      "\u001b[0;32m<ipython-input-6-cd6a9a1a21ac>\u001b[0m in \u001b[0;36m<module>\u001b[0;34m\u001b[0m\n\u001b[0;32m----> 1\u001b[0;31m \u001b[0md\u001b[0m\u001b[0;34m.\u001b[0m\u001b[0mreadData\u001b[0m\u001b[0;34m(\u001b[0m\u001b[0;34m\"second\"\u001b[0m\u001b[0;34m)\u001b[0m\u001b[0;34m\u001b[0m\u001b[0;34m\u001b[0m\u001b[0m\n\u001b[0m",
      "\u001b[0;32m<ipython-input-2-1c4d091d222b>\u001b[0m in \u001b[0;36mreadData\u001b[0;34m(self, key)\u001b[0m\n\u001b[1;32m    124\u001b[0m     \u001b[0;32mdef\u001b[0m \u001b[0mreadData\u001b[0m\u001b[0;34m(\u001b[0m\u001b[0mself\u001b[0m\u001b[0;34m,\u001b[0m\u001b[0mkey\u001b[0m\u001b[0;34m)\u001b[0m\u001b[0;34m:\u001b[0m\u001b[0;34m\u001b[0m\u001b[0;34m\u001b[0m\u001b[0m\n\u001b[1;32m    125\u001b[0m         \u001b[0;32mtry\u001b[0m\u001b[0;34m:\u001b[0m\u001b[0;34m\u001b[0m\u001b[0;34m\u001b[0m\u001b[0m\n\u001b[0;32m--> 126\u001b[0;31m             \u001b[0mexistingFileSize\u001b[0m \u001b[0;34m=\u001b[0m \u001b[0mos\u001b[0m\u001b[0;34m.\u001b[0m\u001b[0mpath\u001b[0m\u001b[0;34m.\u001b[0m\u001b[0mgetsize\u001b[0m\u001b[0;34m(\u001b[0m\u001b[0mdatastore\u001b[0m\u001b[0;34m.\u001b[0m\u001b[0mFILE_NAME\u001b[0m\u001b[0;34m)\u001b[0m\u001b[0;34m\u001b[0m\u001b[0;34m\u001b[0m\u001b[0m\n\u001b[0m\u001b[1;32m    127\u001b[0m             \u001b[0;32mif\u001b[0m\u001b[0;34m(\u001b[0m\u001b[0mexistingFileSize\u001b[0m \u001b[0;34m==\u001b[0m \u001b[0;36m0.0\u001b[0m\u001b[0;34m)\u001b[0m\u001b[0;34m:\u001b[0m\u001b[0;34m\u001b[0m\u001b[0;34m\u001b[0m\u001b[0m\n\u001b[1;32m    128\u001b[0m                 \u001b[0;32mraise\u001b[0m \u001b[0memptyFileException\u001b[0m\u001b[0;34m\u001b[0m\u001b[0;34m\u001b[0m\u001b[0m\n",
      "\u001b[0;32m~/anaconda3/lib/python3.7/genericpath.py\u001b[0m in \u001b[0;36mgetsize\u001b[0;34m(filename)\u001b[0m\n\u001b[1;32m     48\u001b[0m \u001b[0;32mdef\u001b[0m \u001b[0mgetsize\u001b[0m\u001b[0;34m(\u001b[0m\u001b[0mfilename\u001b[0m\u001b[0;34m)\u001b[0m\u001b[0;34m:\u001b[0m\u001b[0;34m\u001b[0m\u001b[0;34m\u001b[0m\u001b[0m\n\u001b[1;32m     49\u001b[0m     \u001b[0;34m\"\"\"Return the size of a file, reported by os.stat().\"\"\"\u001b[0m\u001b[0;34m\u001b[0m\u001b[0;34m\u001b[0m\u001b[0m\n\u001b[0;32m---> 50\u001b[0;31m     \u001b[0;32mreturn\u001b[0m \u001b[0mos\u001b[0m\u001b[0;34m.\u001b[0m\u001b[0mstat\u001b[0m\u001b[0;34m(\u001b[0m\u001b[0mfilename\u001b[0m\u001b[0;34m)\u001b[0m\u001b[0;34m.\u001b[0m\u001b[0mst_size\u001b[0m\u001b[0;34m\u001b[0m\u001b[0;34m\u001b[0m\u001b[0m\n\u001b[0m\u001b[1;32m     51\u001b[0m \u001b[0;34m\u001b[0m\u001b[0m\n\u001b[1;32m     52\u001b[0m \u001b[0;34m\u001b[0m\u001b[0m\n",
      "\u001b[0;31mFileNotFoundError\u001b[0m: [Errno 2] No such file or directory: ''"
     ]
    }
   ],
   "source": [
    "d.readData(\"second\")"
   ]
  },
  {
   "cell_type": "code",
   "execution_count": 51,
   "metadata": {},
   "outputs": [
    {
     "name": "stdout",
     "output_type": "stream",
     "text": [
      "Key Not Found\n",
      "\n"
     ]
    }
   ],
   "source": [
    "d.readData(\"third\")"
   ]
  },
  {
   "cell_type": "code",
   "execution_count": 52,
   "metadata": {},
   "outputs": [
    {
     "name": "stdout",
     "output_type": "stream",
     "text": [
      "Key Not Found\n",
      "\n"
     ]
    }
   ],
   "source": [
    "d.delData(\"third\")"
   ]
  },
  {
   "cell_type": "code",
   "execution_count": 53,
   "metadata": {},
   "outputs": [
    {
     "name": "stdout",
     "output_type": "stream",
     "text": [
      "Key Exceeded Time To Live\n"
     ]
    }
   ],
   "source": [
    "d.delData(\"second\")"
   ]
  },
  {
   "cell_type": "code",
   "execution_count": 54,
   "metadata": {},
   "outputs": [],
   "source": [
    "d.delData(\"first\")"
   ]
  },
  {
   "cell_type": "code",
   "execution_count": null,
   "metadata": {},
   "outputs": [],
   "source": []
  }
 ],
 "metadata": {
  "kernelspec": {
   "display_name": "Python 3",
   "language": "python",
   "name": "python3"
  },
  "language_info": {
   "codemirror_mode": {
    "name": "ipython",
    "version": 3
   },
   "file_extension": ".py",
   "mimetype": "text/x-python",
   "name": "python",
   "nbconvert_exporter": "python",
   "pygments_lexer": "ipython3",
   "version": "3.7.3"
  }
 },
 "nbformat": 4,
 "nbformat_minor": 4
}
